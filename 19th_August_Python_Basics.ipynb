{
 "cells": [
  {
   "cell_type": "markdown",
   "id": "431f5693-cc2a-4aec-bf61-1e53ed1b7bcb",
   "metadata": {},
   "source": [
    "* *TOPIC: Python Basics Variable*"
   ]
  },
  {
   "cell_type": "markdown",
   "id": "9c2613da-67e6-4bd8-af76-a7c09ca76466",
   "metadata": {},
   "source": [
    "1. Declare two variables, `x` and `y`, and assign them integer values. Swap the\n",
    "values of these variables without using any temporary variable."
   ]
  },
  {
   "cell_type": "code",
   "execution_count": 1,
   "id": "b8d5997b-96d7-4b18-895a-38c588b543f9",
   "metadata": {},
   "outputs": [],
   "source": [
    "#Declearing tha value of x and y.\n",
    "x=10\n",
    "y=15"
   ]
  },
  {
   "cell_type": "code",
   "execution_count": 2,
   "id": "6f3157fb-c7d9-456d-b8cb-12ab9f436ed9",
   "metadata": {},
   "outputs": [],
   "source": [
    "#swaping the value\n",
    "x,y=y,x"
   ]
  },
  {
   "cell_type": "code",
   "execution_count": 3,
   "id": "aed5a62f-afb0-46fa-bb29-98908cb5fcd9",
   "metadata": {},
   "outputs": [
    {
     "data": {
      "text/plain": [
       "(15, 10)"
      ]
     },
     "execution_count": 3,
     "metadata": {},
     "output_type": "execute_result"
    }
   ],
   "source": [
    "#printing the new value\n",
    "x,y"
   ]
  },
  {
   "cell_type": "markdown",
   "id": "082ffa0b-0b65-4f86-a063-7056fe58592d",
   "metadata": {},
   "source": [
    "2. Create a program that calculates the area of a rectangle. Take the length and\n",
    "width as inputs from the user and store them in variables. Calculate and\n",
    "display the area."
   ]
  },
  {
   "cell_type": "code",
   "execution_count": 5,
   "id": "334e6fb0-d843-4b48-bd3a-4c9d77f0fee0",
   "metadata": {},
   "outputs": [
    {
     "name": "stdin",
     "output_type": "stream",
     "text": [
      "enter the length 25\n",
      "enter the weidth 65\n"
     ]
    }
   ],
   "source": [
    "#Taking the input of length and weidth\n",
    "lenth=input(\"enter the length\")\n",
    "width=input(\"enter the weidth\")"
   ]
  },
  {
   "cell_type": "code",
   "execution_count": 6,
   "id": "0ff3b32d-947e-4a1a-a7c8-b57a64f51e30",
   "metadata": {},
   "outputs": [
    {
     "data": {
      "text/plain": [
       "1625"
      ]
     },
     "execution_count": 6,
     "metadata": {},
     "output_type": "execute_result"
    }
   ],
   "source": [
    "#calculating the area\n",
    "area=int(lenth)*int(width)\n",
    "area"
   ]
  },
  {
   "cell_type": "markdown",
   "id": "c6a0ffe5-99ab-4c75-b967-8237d820c143",
   "metadata": {},
   "source": [
    "3. Write a Python program that converts temperatures from Celsius to\n",
    "Fahrenheit. Take the temperature in Celsius as input, store it in a variable,\n",
    "convert it to Fahrenheit, and display the result."
   ]
  },
  {
   "cell_type": "code",
   "execution_count": 8,
   "id": "11668cbc-fa9b-4941-9694-08269c26fbca",
   "metadata": {},
   "outputs": [
    {
     "name": "stdin",
     "output_type": "stream",
     "text": [
      "enter the celsius 25\n"
     ]
    }
   ],
   "source": [
    "#taking the teprature in celsius\n",
    "c=input(\"enter the celsius\")"
   ]
  },
  {
   "cell_type": "code",
   "execution_count": 9,
   "id": "6af2dfdb-f177-43cd-be2c-9e550a8de79a",
   "metadata": {},
   "outputs": [
    {
     "data": {
      "text/plain": [
       "77.0"
      ]
     },
     "execution_count": 9,
     "metadata": {},
     "output_type": "execute_result"
    }
   ],
   "source": [
    "#converting c in f\n",
    "f=9/5*int(c)+32\n",
    "f"
   ]
  },
  {
   "cell_type": "markdown",
   "id": "8dc6b97f-5ce2-4dc4-b44b-49757a284092",
   "metadata": {},
   "source": [
    "* *TOPIC: String Based Questions*"
   ]
  },
  {
   "cell_type": "markdown",
   "id": "3f4ea721-e938-43a3-929b-13e36f40c3a9",
   "metadata": {},
   "source": [
    "1. Write a Python program that takes a string as input and prints the length of\n",
    "the string."
   ]
  },
  {
   "cell_type": "code",
   "execution_count": 10,
   "id": "d49c30db-d2ce-4fe6-851c-a3e7a05fb531",
   "metadata": {},
   "outputs": [
    {
     "name": "stdin",
     "output_type": "stream",
     "text": [
      "enter the string vikash vivek\n"
     ]
    }
   ],
   "source": [
    "#taking the string input\n",
    "s=input(\"enter the string\")"
   ]
  },
  {
   "cell_type": "code",
   "execution_count": 11,
   "id": "aa20a80c-dc4c-4e68-ad44-030152c35a7a",
   "metadata": {},
   "outputs": [
    {
     "data": {
      "text/plain": [
       "12"
      ]
     },
     "execution_count": 11,
     "metadata": {},
     "output_type": "execute_result"
    }
   ],
   "source": [
    "#printing the length of the string\n",
    "len(s)"
   ]
  },
  {
   "cell_type": "markdown",
   "id": "711ea427-a1e6-4df9-afd9-4d773d936f17",
   "metadata": {},
   "source": [
    "2. Create a program that takes a sentence from the user and counts the number\n",
    "of vowels (a, e, i, o, u) in the string."
   ]
  },
  {
   "cell_type": "code",
   "execution_count": 12,
   "id": "57fc2b81-04d9-44fa-8cc1-bb05fff23427",
   "metadata": {},
   "outputs": [
    {
     "name": "stdin",
     "output_type": "stream",
     "text": [
      "enter the sentence vikash vivek\n"
     ]
    },
    {
     "name": "stdout",
     "output_type": "stream",
     "text": [
      "4\n"
     ]
    }
   ],
   "source": [
    "#taking the string input\n",
    "s1=input(\"enter the sentence\")\n",
    "#initilizing the count variable for counting the vowel\n",
    "count=0\n",
    "for i in s1:\n",
    "    if i in \"aeiou\":\n",
    "        count += 1\n",
    "\n",
    "#printing the count of vowel      \n",
    "print (count)"
   ]
  },
  {
   "cell_type": "markdown",
   "id": "51646f09-adee-4eb5-b784-16cf1c11b9bf",
   "metadata": {},
   "source": [
    "3. Given a string, reverse the order of characters using string slicing and print\n",
    "the reversed string."
   ]
  },
  {
   "cell_type": "code",
   "execution_count": 13,
   "id": "0bfc8f44-f9c3-497f-b6aa-09dd2ee32191",
   "metadata": {},
   "outputs": [],
   "source": [
    "#taking the string input\n",
    "string=\"hello frnd\""
   ]
  },
  {
   "cell_type": "code",
   "execution_count": 14,
   "id": "978e4773-4adc-40eb-bc98-efb1010e9901",
   "metadata": {},
   "outputs": [
    {
     "data": {
      "text/plain": [
       "'dnrf olleh'"
      ]
     },
     "execution_count": 14,
     "metadata": {},
     "output_type": "execute_result"
    }
   ],
   "source": [
    "#useing string slicing to reverse the string\n",
    "string[::-1]"
   ]
  }
 ],
 "metadata": {
  "kernelspec": {
   "display_name": "Python 3 (ipykernel)",
   "language": "python",
   "name": "python3"
  },
  "language_info": {
   "codemirror_mode": {
    "name": "ipython",
    "version": 3
   },
   "file_extension": ".py",
   "mimetype": "text/x-python",
   "name": "python",
   "nbconvert_exporter": "python",
   "pygments_lexer": "ipython3",
   "version": "3.10.8"
  }
 },
 "nbformat": 4,
 "nbformat_minor": 5
}
